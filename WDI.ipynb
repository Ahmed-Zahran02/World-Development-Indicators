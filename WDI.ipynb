{
 "cells": [
  {
   "cell_type": "code",
   "execution_count": 1,
   "metadata": {},
   "outputs": [
    {
     "name": "stderr",
     "output_type": "stream",
     "text": [
      "c:\\Users\\dell\\AppData\\Local\\Programs\\Python\\Python312\\Lib\\site-packages\\fuzzywuzzy\\fuzz.py:11: UserWarning: Using slow pure-python SequenceMatcher. Install python-Levenshtein to remove this warning\n",
      "  warnings.warn('Using slow pure-python SequenceMatcher. Install python-Levenshtein to remove this warning')\n"
     ]
    }
   ],
   "source": [
    "import numpy as np\n",
    "import pandas as pd\n",
    "import matplotlib.pyplot as plt\n",
    "import seaborn as sns\n",
    "import warnings\n",
    "from fuzzywuzzy import process\n",
    "\n",
    "warnings.simplefilter(\"ignore\")"
   ]
  },
  {
   "cell_type": "code",
   "execution_count": 2,
   "metadata": {},
   "outputs": [],
   "source": [
    "df = pd.read_csv(r\"WDI.csv\")"
   ]
  },
  {
   "cell_type": "code",
   "execution_count": 3,
   "metadata": {},
   "outputs": [
    {
     "data": {
      "text/html": [
       "<div>\n",
       "<style scoped>\n",
       "    .dataframe tbody tr th:only-of-type {\n",
       "        vertical-align: middle;\n",
       "    }\n",
       "\n",
       "    .dataframe tbody tr th {\n",
       "        vertical-align: top;\n",
       "    }\n",
       "\n",
       "    .dataframe thead th {\n",
       "        text-align: right;\n",
       "    }\n",
       "</style>\n",
       "<table border=\"1\" class=\"dataframe\">\n",
       "  <thead>\n",
       "    <tr style=\"text-align: right;\">\n",
       "      <th></th>\n",
       "      <th>Unnamed: 0</th>\n",
       "      <th>Nation</th>\n",
       "      <th>Survey_Year</th>\n",
       "      <th>Country_Category</th>\n",
       "      <th>Mortality_Adults</th>\n",
       "      <th>Infant_Deaths_Count</th>\n",
       "      <th>Alcohol_Consumption_Rate</th>\n",
       "      <th>Expenditure_Percentage_GDP</th>\n",
       "      <th>Hepatitis_B_Vaccination_Coverage</th>\n",
       "      <th>Measles_Infection_Count</th>\n",
       "      <th>Body_Mass_Index_Avg</th>\n",
       "      <th>Polio_Vaccination_Coverage</th>\n",
       "      <th>Total_Health_Expenditure</th>\n",
       "      <th>Diphtheria_Vaccination_Coverage</th>\n",
       "      <th>HIV_AIDS_Prevalence_Rate</th>\n",
       "      <th>Gross_Domestic_Product</th>\n",
       "      <th>Total_Population</th>\n",
       "      <th>Thinness</th>\n",
       "      <th>Life_Expectancy_Years</th>\n",
       "    </tr>\n",
       "  </thead>\n",
       "  <tbody>\n",
       "    <tr>\n",
       "      <th>0</th>\n",
       "      <td>0</td>\n",
       "      <td>Syrian Arab Republic</td>\n",
       "      <td>2006.0</td>\n",
       "      <td>Developing</td>\n",
       "      <td>123.0</td>\n",
       "      <td>8</td>\n",
       "      <td>0.97</td>\n",
       "      <td>122.652333</td>\n",
       "      <td>83.0</td>\n",
       "      <td>517.0</td>\n",
       "      <td>48.5</td>\n",
       "      <td>83.0</td>\n",
       "      <td>3.78</td>\n",
       "      <td>8.0</td>\n",
       "      <td>0.1</td>\n",
       "      <td>1762.246170</td>\n",
       "      <td>18914977.0</td>\n",
       "      <td>6.4</td>\n",
       "      <td>73.7</td>\n",
       "    </tr>\n",
       "    <tr>\n",
       "      <th>1</th>\n",
       "      <td>1</td>\n",
       "      <td>Croatia</td>\n",
       "      <td>2006.0</td>\n",
       "      <td>Developed</td>\n",
       "      <td>113.0</td>\n",
       "      <td>0</td>\n",
       "      <td>11.83</td>\n",
       "      <td>1555.651986</td>\n",
       "      <td>NaN</td>\n",
       "      <td>1.0</td>\n",
       "      <td>58.1</td>\n",
       "      <td>96.0</td>\n",
       "      <td>6.95</td>\n",
       "      <td>96.0</td>\n",
       "      <td>0.1</td>\n",
       "      <td>11363.418450</td>\n",
       "      <td>444.0</td>\n",
       "      <td>1.8</td>\n",
       "      <td>75.9</td>\n",
       "    </tr>\n",
       "    <tr>\n",
       "      <th>2</th>\n",
       "      <td>2</td>\n",
       "      <td>Montenegro</td>\n",
       "      <td>2007.0</td>\n",
       "      <td>Developing</td>\n",
       "      <td>125.0</td>\n",
       "      <td>0</td>\n",
       "      <td>4.98</td>\n",
       "      <td>678.518894</td>\n",
       "      <td>9.0</td>\n",
       "      <td>0.0</td>\n",
       "      <td>57.2</td>\n",
       "      <td>92.0</td>\n",
       "      <td>6.74</td>\n",
       "      <td>92.0</td>\n",
       "      <td>0.1</td>\n",
       "      <td>5957.145693</td>\n",
       "      <td>615875.0</td>\n",
       "      <td>2.1</td>\n",
       "      <td>74.2</td>\n",
       "    </tr>\n",
       "    <tr>\n",
       "      <th>3</th>\n",
       "      <td>3</td>\n",
       "      <td>Bahrain</td>\n",
       "      <td>2014.0</td>\n",
       "      <td>Developing</td>\n",
       "      <td>7.0</td>\n",
       "      <td>0</td>\n",
       "      <td>1.57</td>\n",
       "      <td>367.255674</td>\n",
       "      <td>98.0</td>\n",
       "      <td>46.0</td>\n",
       "      <td>62.9</td>\n",
       "      <td>98.0</td>\n",
       "      <td>4.98</td>\n",
       "      <td>98.0</td>\n",
       "      <td>0.1</td>\n",
       "      <td>24983.379200</td>\n",
       "      <td>NaN</td>\n",
       "      <td>6.1</td>\n",
       "      <td>76.8</td>\n",
       "    </tr>\n",
       "    <tr>\n",
       "      <th>4</th>\n",
       "      <td>4</td>\n",
       "      <td>Kenya</td>\n",
       "      <td>2000.0</td>\n",
       "      <td>Developing</td>\n",
       "      <td>428.0</td>\n",
       "      <td>77</td>\n",
       "      <td>1.51</td>\n",
       "      <td>0.681686</td>\n",
       "      <td>NaN</td>\n",
       "      <td>21002.0</td>\n",
       "      <td>14.4</td>\n",
       "      <td>8.0</td>\n",
       "      <td>4.68</td>\n",
       "      <td>82.0</td>\n",
       "      <td>18.1</td>\n",
       "      <td>43.979713</td>\n",
       "      <td>3145483.0</td>\n",
       "      <td>9.2</td>\n",
       "      <td>51.9</td>\n",
       "    </tr>\n",
       "  </tbody>\n",
       "</table>\n",
       "</div>"
      ],
      "text/plain": [
       "   Unnamed: 0                Nation  Survey_Year Country_Category  \\\n",
       "0           0  Syrian Arab Republic       2006.0       Developing   \n",
       "1           1               Croatia       2006.0        Developed   \n",
       "2           2            Montenegro       2007.0       Developing   \n",
       "3           3               Bahrain       2014.0       Developing   \n",
       "4           4                 Kenya       2000.0       Developing   \n",
       "\n",
       "   Mortality_Adults  Infant_Deaths_Count  Alcohol_Consumption_Rate  \\\n",
       "0             123.0                    8                      0.97   \n",
       "1             113.0                    0                     11.83   \n",
       "2             125.0                    0                      4.98   \n",
       "3               7.0                    0                      1.57   \n",
       "4             428.0                   77                      1.51   \n",
       "\n",
       "   Expenditure_Percentage_GDP  Hepatitis_B_Vaccination_Coverage  \\\n",
       "0                  122.652333                              83.0   \n",
       "1                 1555.651986                               NaN   \n",
       "2                  678.518894                               9.0   \n",
       "3                  367.255674                              98.0   \n",
       "4                    0.681686                               NaN   \n",
       "\n",
       "   Measles_Infection_Count  Body_Mass_Index_Avg  Polio_Vaccination_Coverage  \\\n",
       "0                    517.0                 48.5                        83.0   \n",
       "1                      1.0                 58.1                        96.0   \n",
       "2                      0.0                 57.2                        92.0   \n",
       "3                     46.0                 62.9                        98.0   \n",
       "4                  21002.0                 14.4                         8.0   \n",
       "\n",
       "   Total_Health_Expenditure  Diphtheria_Vaccination_Coverage  \\\n",
       "0                      3.78                              8.0   \n",
       "1                      6.95                             96.0   \n",
       "2                      6.74                             92.0   \n",
       "3                      4.98                             98.0   \n",
       "4                      4.68                             82.0   \n",
       "\n",
       "   HIV_AIDS_Prevalence_Rate  Gross_Domestic_Product  Total_Population  \\\n",
       "0                       0.1             1762.246170        18914977.0   \n",
       "1                       0.1            11363.418450             444.0   \n",
       "2                       0.1             5957.145693          615875.0   \n",
       "3                       0.1            24983.379200               NaN   \n",
       "4                      18.1               43.979713         3145483.0   \n",
       "\n",
       "   Thinness  Life_Expectancy_Years  \n",
       "0       6.4                   73.7  \n",
       "1       1.8                   75.9  \n",
       "2       2.1                   74.2  \n",
       "3       6.1                   76.8  \n",
       "4       9.2                   51.9  "
      ]
     },
     "execution_count": 3,
     "metadata": {},
     "output_type": "execute_result"
    }
   ],
   "source": [
    "df.head()"
   ]
  },
  {
   "cell_type": "code",
   "execution_count": 4,
   "metadata": {},
   "outputs": [
    {
     "data": {
      "text/html": [
       "<div>\n",
       "<style scoped>\n",
       "    .dataframe tbody tr th:only-of-type {\n",
       "        vertical-align: middle;\n",
       "    }\n",
       "\n",
       "    .dataframe tbody tr th {\n",
       "        vertical-align: top;\n",
       "    }\n",
       "\n",
       "    .dataframe thead th {\n",
       "        text-align: right;\n",
       "    }\n",
       "</style>\n",
       "<table border=\"1\" class=\"dataframe\">\n",
       "  <thead>\n",
       "    <tr style=\"text-align: right;\">\n",
       "      <th></th>\n",
       "      <th>Unnamed: 0</th>\n",
       "      <th>Nation</th>\n",
       "      <th>Survey_Year</th>\n",
       "      <th>Country_Category</th>\n",
       "      <th>Mortality_Adults</th>\n",
       "      <th>Infant_Deaths_Count</th>\n",
       "      <th>Alcohol_Consumption_Rate</th>\n",
       "      <th>Expenditure_Percentage_GDP</th>\n",
       "      <th>Hepatitis_B_Vaccination_Coverage</th>\n",
       "      <th>Measles_Infection_Count</th>\n",
       "      <th>Body_Mass_Index_Avg</th>\n",
       "      <th>Polio_Vaccination_Coverage</th>\n",
       "      <th>Total_Health_Expenditure</th>\n",
       "      <th>Diphtheria_Vaccination_Coverage</th>\n",
       "      <th>HIV_AIDS_Prevalence_Rate</th>\n",
       "      <th>Gross_Domestic_Product</th>\n",
       "      <th>Total_Population</th>\n",
       "      <th>Thinness</th>\n",
       "      <th>Life_Expectancy_Years</th>\n",
       "    </tr>\n",
       "  </thead>\n",
       "  <tbody>\n",
       "    <tr>\n",
       "      <th>1723</th>\n",
       "      <td>1723</td>\n",
       "      <td>Thailand</td>\n",
       "      <td>2000.0</td>\n",
       "      <td>Developing</td>\n",
       "      <td>194.0</td>\n",
       "      <td>18</td>\n",
       "      <td>5.88</td>\n",
       "      <td>0.275648</td>\n",
       "      <td>95.0</td>\n",
       "      <td>4074.0</td>\n",
       "      <td>18.7</td>\n",
       "      <td>97.0</td>\n",
       "      <td>3.40</td>\n",
       "      <td>97.0</td>\n",
       "      <td>0.8</td>\n",
       "      <td>27.564826</td>\n",
       "      <td>6295821.0</td>\n",
       "      <td>9.4</td>\n",
       "      <td>71.1</td>\n",
       "    </tr>\n",
       "    <tr>\n",
       "      <th>2670</th>\n",
       "      <td>2670</td>\n",
       "      <td>Saint Vincent and the Grenadines</td>\n",
       "      <td>2000.0</td>\n",
       "      <td>Developing</td>\n",
       "      <td>186.0</td>\n",
       "      <td>0</td>\n",
       "      <td>4.80</td>\n",
       "      <td>0.000000</td>\n",
       "      <td>NaN</td>\n",
       "      <td>0.0</td>\n",
       "      <td>4.1</td>\n",
       "      <td>99.0</td>\n",
       "      <td>3.73</td>\n",
       "      <td>98.0</td>\n",
       "      <td>0.7</td>\n",
       "      <td>NaN</td>\n",
       "      <td>NaN</td>\n",
       "      <td>4.0</td>\n",
       "      <td>79.0</td>\n",
       "    </tr>\n",
       "    <tr>\n",
       "      <th>169</th>\n",
       "      <td>169</td>\n",
       "      <td>Samoa</td>\n",
       "      <td>2000.0</td>\n",
       "      <td>Developing</td>\n",
       "      <td>18.0</td>\n",
       "      <td>0</td>\n",
       "      <td>3.00</td>\n",
       "      <td>21.254300</td>\n",
       "      <td>89.0</td>\n",
       "      <td>0.0</td>\n",
       "      <td>65.6</td>\n",
       "      <td>94.0</td>\n",
       "      <td>5.31</td>\n",
       "      <td>95.0</td>\n",
       "      <td>0.1</td>\n",
       "      <td>154.689230</td>\n",
       "      <td>17461.0</td>\n",
       "      <td>0.2</td>\n",
       "      <td>72.0</td>\n",
       "    </tr>\n",
       "    <tr>\n",
       "      <th>1779</th>\n",
       "      <td>1779</td>\n",
       "      <td>India</td>\n",
       "      <td>2000.0</td>\n",
       "      <td>Developing</td>\n",
       "      <td>224.0</td>\n",
       "      <td>1800</td>\n",
       "      <td>0.93</td>\n",
       "      <td>19.266157</td>\n",
       "      <td>NaN</td>\n",
       "      <td>38835.0</td>\n",
       "      <td>11.4</td>\n",
       "      <td>57.0</td>\n",
       "      <td>4.26</td>\n",
       "      <td>58.0</td>\n",
       "      <td>0.3</td>\n",
       "      <td>438.864634</td>\n",
       "      <td>1535912.0</td>\n",
       "      <td>27.7</td>\n",
       "      <td>62.5</td>\n",
       "    </tr>\n",
       "    <tr>\n",
       "      <th>172</th>\n",
       "      <td>172</td>\n",
       "      <td>Bahamas</td>\n",
       "      <td>2000.0</td>\n",
       "      <td>Developing</td>\n",
       "      <td>192.0</td>\n",
       "      <td>0</td>\n",
       "      <td>12.15</td>\n",
       "      <td>0.000000</td>\n",
       "      <td>NaN</td>\n",
       "      <td>0.0</td>\n",
       "      <td>54.4</td>\n",
       "      <td>91.0</td>\n",
       "      <td>5.21</td>\n",
       "      <td>99.0</td>\n",
       "      <td>0.1</td>\n",
       "      <td>NaN</td>\n",
       "      <td>NaN</td>\n",
       "      <td>2.7</td>\n",
       "      <td>72.6</td>\n",
       "    </tr>\n",
       "    <tr>\n",
       "      <th>...</th>\n",
       "      <td>...</td>\n",
       "      <td>...</td>\n",
       "      <td>...</td>\n",
       "      <td>...</td>\n",
       "      <td>...</td>\n",
       "      <td>...</td>\n",
       "      <td>...</td>\n",
       "      <td>...</td>\n",
       "      <td>...</td>\n",
       "      <td>...</td>\n",
       "      <td>...</td>\n",
       "      <td>...</td>\n",
       "      <td>...</td>\n",
       "      <td>...</td>\n",
       "      <td>...</td>\n",
       "      <td>...</td>\n",
       "      <td>...</td>\n",
       "      <td>...</td>\n",
       "      <td>...</td>\n",
       "    </tr>\n",
       "    <tr>\n",
       "      <th>1759</th>\n",
       "      <td>1759</td>\n",
       "      <td>United States of America</td>\n",
       "      <td>2015.0</td>\n",
       "      <td>Developed</td>\n",
       "      <td>13.0</td>\n",
       "      <td>23</td>\n",
       "      <td>NaN</td>\n",
       "      <td>0.000000</td>\n",
       "      <td>92.0</td>\n",
       "      <td>188.0</td>\n",
       "      <td>69.6</td>\n",
       "      <td>93.0</td>\n",
       "      <td>NaN</td>\n",
       "      <td>95.0</td>\n",
       "      <td>0.1</td>\n",
       "      <td>NaN</td>\n",
       "      <td>NaN</td>\n",
       "      <td>0.8</td>\n",
       "      <td>79.3</td>\n",
       "    </tr>\n",
       "    <tr>\n",
       "      <th>96</th>\n",
       "      <td>96</td>\n",
       "      <td>Slovakia</td>\n",
       "      <td>2015.0</td>\n",
       "      <td>Developed</td>\n",
       "      <td>19.0</td>\n",
       "      <td>0</td>\n",
       "      <td>NaN</td>\n",
       "      <td>0.000000</td>\n",
       "      <td>96.0</td>\n",
       "      <td>1.0</td>\n",
       "      <td>59.1</td>\n",
       "      <td>96.0</td>\n",
       "      <td>NaN</td>\n",
       "      <td>96.0</td>\n",
       "      <td>0.1</td>\n",
       "      <td>NaN</td>\n",
       "      <td>NaN</td>\n",
       "      <td>1.2</td>\n",
       "      <td>76.7</td>\n",
       "    </tr>\n",
       "    <tr>\n",
       "      <th>2441</th>\n",
       "      <td>2441</td>\n",
       "      <td>Haiti</td>\n",
       "      <td>2015.0</td>\n",
       "      <td>Developing</td>\n",
       "      <td>24.0</td>\n",
       "      <td>14</td>\n",
       "      <td>NaN</td>\n",
       "      <td>0.000000</td>\n",
       "      <td>6.0</td>\n",
       "      <td>0.0</td>\n",
       "      <td>49.9</td>\n",
       "      <td>56.0</td>\n",
       "      <td>NaN</td>\n",
       "      <td>6.0</td>\n",
       "      <td>0.5</td>\n",
       "      <td>814.546395</td>\n",
       "      <td>171161.0</td>\n",
       "      <td>3.9</td>\n",
       "      <td>63.5</td>\n",
       "    </tr>\n",
       "    <tr>\n",
       "      <th>134</th>\n",
       "      <td>134</td>\n",
       "      <td>Niger</td>\n",
       "      <td>NaN</td>\n",
       "      <td>Developing</td>\n",
       "      <td>28.0</td>\n",
       "      <td>56</td>\n",
       "      <td>0.10</td>\n",
       "      <td>20.268766</td>\n",
       "      <td>NaN</td>\n",
       "      <td>54190.0</td>\n",
       "      <td>14.6</td>\n",
       "      <td>44.0</td>\n",
       "      <td>6.23</td>\n",
       "      <td>41.0</td>\n",
       "      <td>1.6</td>\n",
       "      <td>215.854800</td>\n",
       "      <td>1265687.0</td>\n",
       "      <td>12.3</td>\n",
       "      <td>52.1</td>\n",
       "    </tr>\n",
       "    <tr>\n",
       "      <th>177</th>\n",
       "      <td>177</td>\n",
       "      <td>Sao Tome and Principe</td>\n",
       "      <td>NaN</td>\n",
       "      <td>Developing</td>\n",
       "      <td>224.0</td>\n",
       "      <td>0</td>\n",
       "      <td>5.07</td>\n",
       "      <td>0.000000</td>\n",
       "      <td>NaN</td>\n",
       "      <td>0.0</td>\n",
       "      <td>2.7</td>\n",
       "      <td>87.0</td>\n",
       "      <td>8.86</td>\n",
       "      <td>82.0</td>\n",
       "      <td>1.5</td>\n",
       "      <td>NaN</td>\n",
       "      <td>13866.0</td>\n",
       "      <td>8.0</td>\n",
       "      <td>62.6</td>\n",
       "    </tr>\n",
       "  </tbody>\n",
       "</table>\n",
       "<p>2938 rows × 19 columns</p>\n",
       "</div>"
      ],
      "text/plain": [
       "      Unnamed: 0                            Nation  Survey_Year  \\\n",
       "1723        1723                          Thailand       2000.0   \n",
       "2670        2670  Saint Vincent and the Grenadines       2000.0   \n",
       "169          169                             Samoa       2000.0   \n",
       "1779        1779                             India       2000.0   \n",
       "172          172                           Bahamas       2000.0   \n",
       "...          ...                               ...          ...   \n",
       "1759        1759          United States of America       2015.0   \n",
       "96            96                          Slovakia       2015.0   \n",
       "2441        2441                             Haiti       2015.0   \n",
       "134          134                             Niger          NaN   \n",
       "177          177             Sao Tome and Principe          NaN   \n",
       "\n",
       "     Country_Category  Mortality_Adults  Infant_Deaths_Count  \\\n",
       "1723       Developing             194.0                   18   \n",
       "2670       Developing             186.0                    0   \n",
       "169        Developing              18.0                    0   \n",
       "1779       Developing             224.0                 1800   \n",
       "172        Developing             192.0                    0   \n",
       "...               ...               ...                  ...   \n",
       "1759        Developed              13.0                   23   \n",
       "96          Developed              19.0                    0   \n",
       "2441       Developing              24.0                   14   \n",
       "134        Developing              28.0                   56   \n",
       "177        Developing             224.0                    0   \n",
       "\n",
       "      Alcohol_Consumption_Rate  Expenditure_Percentage_GDP  \\\n",
       "1723                      5.88                    0.275648   \n",
       "2670                      4.80                    0.000000   \n",
       "169                       3.00                   21.254300   \n",
       "1779                      0.93                   19.266157   \n",
       "172                      12.15                    0.000000   \n",
       "...                        ...                         ...   \n",
       "1759                       NaN                    0.000000   \n",
       "96                         NaN                    0.000000   \n",
       "2441                       NaN                    0.000000   \n",
       "134                       0.10                   20.268766   \n",
       "177                       5.07                    0.000000   \n",
       "\n",
       "      Hepatitis_B_Vaccination_Coverage  Measles_Infection_Count  \\\n",
       "1723                              95.0                   4074.0   \n",
       "2670                               NaN                      0.0   \n",
       "169                               89.0                      0.0   \n",
       "1779                               NaN                  38835.0   \n",
       "172                                NaN                      0.0   \n",
       "...                                ...                      ...   \n",
       "1759                              92.0                    188.0   \n",
       "96                                96.0                      1.0   \n",
       "2441                               6.0                      0.0   \n",
       "134                                NaN                  54190.0   \n",
       "177                                NaN                      0.0   \n",
       "\n",
       "      Body_Mass_Index_Avg  Polio_Vaccination_Coverage  \\\n",
       "1723                 18.7                        97.0   \n",
       "2670                  4.1                        99.0   \n",
       "169                  65.6                        94.0   \n",
       "1779                 11.4                        57.0   \n",
       "172                  54.4                        91.0   \n",
       "...                   ...                         ...   \n",
       "1759                 69.6                        93.0   \n",
       "96                   59.1                        96.0   \n",
       "2441                 49.9                        56.0   \n",
       "134                  14.6                        44.0   \n",
       "177                   2.7                        87.0   \n",
       "\n",
       "      Total_Health_Expenditure  Diphtheria_Vaccination_Coverage  \\\n",
       "1723                      3.40                             97.0   \n",
       "2670                      3.73                             98.0   \n",
       "169                       5.31                             95.0   \n",
       "1779                      4.26                             58.0   \n",
       "172                       5.21                             99.0   \n",
       "...                        ...                              ...   \n",
       "1759                       NaN                             95.0   \n",
       "96                         NaN                             96.0   \n",
       "2441                       NaN                              6.0   \n",
       "134                       6.23                             41.0   \n",
       "177                       8.86                             82.0   \n",
       "\n",
       "      HIV_AIDS_Prevalence_Rate  Gross_Domestic_Product  Total_Population  \\\n",
       "1723                       0.8               27.564826         6295821.0   \n",
       "2670                       0.7                     NaN               NaN   \n",
       "169                        0.1              154.689230           17461.0   \n",
       "1779                       0.3              438.864634         1535912.0   \n",
       "172                        0.1                     NaN               NaN   \n",
       "...                        ...                     ...               ...   \n",
       "1759                       0.1                     NaN               NaN   \n",
       "96                         0.1                     NaN               NaN   \n",
       "2441                       0.5              814.546395          171161.0   \n",
       "134                        1.6              215.854800         1265687.0   \n",
       "177                        1.5                     NaN           13866.0   \n",
       "\n",
       "      Thinness  Life_Expectancy_Years  \n",
       "1723       9.4                   71.1  \n",
       "2670       4.0                   79.0  \n",
       "169        0.2                   72.0  \n",
       "1779      27.7                   62.5  \n",
       "172        2.7                   72.6  \n",
       "...        ...                    ...  \n",
       "1759       0.8                   79.3  \n",
       "96         1.2                   76.7  \n",
       "2441       3.9                   63.5  \n",
       "134       12.3                   52.1  \n",
       "177        8.0                   62.6  \n",
       "\n",
       "[2938 rows x 19 columns]"
      ]
     },
     "execution_count": 4,
     "metadata": {},
     "output_type": "execute_result"
    }
   ],
   "source": [
    "df.sort_values(by=\"Survey_Year\")"
   ]
  },
  {
   "cell_type": "code",
   "execution_count": 5,
   "metadata": {},
   "outputs": [
    {
     "name": "stdout",
     "output_type": "stream",
     "text": [
      "<class 'pandas.core.frame.DataFrame'>\n",
      "RangeIndex: 2938 entries, 0 to 2937\n",
      "Data columns (total 19 columns):\n",
      " #   Column                            Non-Null Count  Dtype  \n",
      "---  ------                            --------------  -----  \n",
      " 0   Unnamed: 0                        2938 non-null   int64  \n",
      " 1   Nation                            2937 non-null   object \n",
      " 2   Survey_Year                       2936 non-null   float64\n",
      " 3   Country_Category                  2935 non-null   object \n",
      " 4   Mortality_Adults                  2925 non-null   float64\n",
      " 5   Infant_Deaths_Count               2938 non-null   int64  \n",
      " 6   Alcohol_Consumption_Rate          2744 non-null   float64\n",
      " 7   Expenditure_Percentage_GDP        2938 non-null   float64\n",
      " 8   Hepatitis_B_Vaccination_Coverage  2385 non-null   float64\n",
      " 9   Measles_Infection_Count           2936 non-null   float64\n",
      " 10  Body_Mass_Index_Avg               2904 non-null   float64\n",
      " 11  Polio_Vaccination_Coverage        2919 non-null   float64\n",
      " 12  Total_Health_Expenditure          2711 non-null   float64\n",
      " 13  Diphtheria_Vaccination_Coverage   2919 non-null   float64\n",
      " 14  HIV_AIDS_Prevalence_Rate          2938 non-null   float64\n",
      " 15  Gross_Domestic_Product            2490 non-null   float64\n",
      " 16  Total_Population                  2286 non-null   float64\n",
      " 17  Thinness                          2904 non-null   float64\n",
      " 18  Life_Expectancy_Years             2928 non-null   float64\n",
      "dtypes: float64(15), int64(2), object(2)\n",
      "memory usage: 436.2+ KB\n"
     ]
    }
   ],
   "source": [
    "df.info()"
   ]
  },
  {
   "cell_type": "code",
   "execution_count": 6,
   "metadata": {},
   "outputs": [
    {
     "data": {
      "text/html": [
       "<div>\n",
       "<style scoped>\n",
       "    .dataframe tbody tr th:only-of-type {\n",
       "        vertical-align: middle;\n",
       "    }\n",
       "\n",
       "    .dataframe tbody tr th {\n",
       "        vertical-align: top;\n",
       "    }\n",
       "\n",
       "    .dataframe thead th {\n",
       "        text-align: right;\n",
       "    }\n",
       "</style>\n",
       "<table border=\"1\" class=\"dataframe\">\n",
       "  <thead>\n",
       "    <tr style=\"text-align: right;\">\n",
       "      <th></th>\n",
       "      <th>Unnamed: 0</th>\n",
       "      <th>Survey_Year</th>\n",
       "      <th>Mortality_Adults</th>\n",
       "      <th>Infant_Deaths_Count</th>\n",
       "      <th>Alcohol_Consumption_Rate</th>\n",
       "      <th>Expenditure_Percentage_GDP</th>\n",
       "      <th>Hepatitis_B_Vaccination_Coverage</th>\n",
       "      <th>Measles_Infection_Count</th>\n",
       "      <th>Body_Mass_Index_Avg</th>\n",
       "      <th>Polio_Vaccination_Coverage</th>\n",
       "      <th>Total_Health_Expenditure</th>\n",
       "      <th>Diphtheria_Vaccination_Coverage</th>\n",
       "      <th>HIV_AIDS_Prevalence_Rate</th>\n",
       "      <th>Gross_Domestic_Product</th>\n",
       "      <th>Total_Population</th>\n",
       "      <th>Thinness</th>\n",
       "      <th>Life_Expectancy_Years</th>\n",
       "    </tr>\n",
       "  </thead>\n",
       "  <tbody>\n",
       "    <tr>\n",
       "      <th>count</th>\n",
       "      <td>2938.000000</td>\n",
       "      <td>2936.00000</td>\n",
       "      <td>2925.000000</td>\n",
       "      <td>2938.000000</td>\n",
       "      <td>2744.000000</td>\n",
       "      <td>2938.000000</td>\n",
       "      <td>2385.000000</td>\n",
       "      <td>2936.000000</td>\n",
       "      <td>2904.000000</td>\n",
       "      <td>2919.000000</td>\n",
       "      <td>2711.000000</td>\n",
       "      <td>2919.000000</td>\n",
       "      <td>2938.000000</td>\n",
       "      <td>2490.000000</td>\n",
       "      <td>2.286000e+03</td>\n",
       "      <td>2904.000000</td>\n",
       "      <td>2928.000000</td>\n",
       "    </tr>\n",
       "    <tr>\n",
       "      <th>mean</th>\n",
       "      <td>1468.500000</td>\n",
       "      <td>2007.52282</td>\n",
       "      <td>164.865299</td>\n",
       "      <td>30.303948</td>\n",
       "      <td>4.602861</td>\n",
       "      <td>738.251295</td>\n",
       "      <td>80.940461</td>\n",
       "      <td>2420.752384</td>\n",
       "      <td>38.321247</td>\n",
       "      <td>82.550188</td>\n",
       "      <td>5.938359</td>\n",
       "      <td>82.324084</td>\n",
       "      <td>1.742103</td>\n",
       "      <td>7483.158469</td>\n",
       "      <td>1.275338e+07</td>\n",
       "      <td>4.839704</td>\n",
       "      <td>69.224932</td>\n",
       "    </tr>\n",
       "    <tr>\n",
       "      <th>std</th>\n",
       "      <td>848.271871</td>\n",
       "      <td>4.61257</td>\n",
       "      <td>124.316868</td>\n",
       "      <td>117.926501</td>\n",
       "      <td>4.052413</td>\n",
       "      <td>1987.914858</td>\n",
       "      <td>25.070016</td>\n",
       "      <td>11471.077443</td>\n",
       "      <td>20.044034</td>\n",
       "      <td>23.428046</td>\n",
       "      <td>2.498765</td>\n",
       "      <td>23.716912</td>\n",
       "      <td>5.077785</td>\n",
       "      <td>14270.169342</td>\n",
       "      <td>6.101210e+07</td>\n",
       "      <td>4.420195</td>\n",
       "      <td>9.523867</td>\n",
       "    </tr>\n",
       "    <tr>\n",
       "      <th>min</th>\n",
       "      <td>0.000000</td>\n",
       "      <td>2000.00000</td>\n",
       "      <td>1.000000</td>\n",
       "      <td>0.000000</td>\n",
       "      <td>0.010000</td>\n",
       "      <td>0.000000</td>\n",
       "      <td>1.000000</td>\n",
       "      <td>0.000000</td>\n",
       "      <td>1.000000</td>\n",
       "      <td>3.000000</td>\n",
       "      <td>0.370000</td>\n",
       "      <td>2.000000</td>\n",
       "      <td>0.100000</td>\n",
       "      <td>1.681350</td>\n",
       "      <td>3.400000e+01</td>\n",
       "      <td>0.100000</td>\n",
       "      <td>36.300000</td>\n",
       "    </tr>\n",
       "    <tr>\n",
       "      <th>25%</th>\n",
       "      <td>734.250000</td>\n",
       "      <td>2004.00000</td>\n",
       "      <td>74.000000</td>\n",
       "      <td>0.000000</td>\n",
       "      <td>0.877500</td>\n",
       "      <td>4.685343</td>\n",
       "      <td>77.000000</td>\n",
       "      <td>0.000000</td>\n",
       "      <td>19.300000</td>\n",
       "      <td>78.000000</td>\n",
       "      <td>4.260000</td>\n",
       "      <td>78.000000</td>\n",
       "      <td>0.100000</td>\n",
       "      <td>463.935626</td>\n",
       "      <td>1.957932e+05</td>\n",
       "      <td>1.600000</td>\n",
       "      <td>63.100000</td>\n",
       "    </tr>\n",
       "    <tr>\n",
       "      <th>50%</th>\n",
       "      <td>1468.500000</td>\n",
       "      <td>2008.00000</td>\n",
       "      <td>144.000000</td>\n",
       "      <td>3.000000</td>\n",
       "      <td>3.755000</td>\n",
       "      <td>64.912906</td>\n",
       "      <td>92.000000</td>\n",
       "      <td>17.000000</td>\n",
       "      <td>43.500000</td>\n",
       "      <td>93.000000</td>\n",
       "      <td>5.760000</td>\n",
       "      <td>93.000000</td>\n",
       "      <td>0.100000</td>\n",
       "      <td>1766.947595</td>\n",
       "      <td>1.386542e+06</td>\n",
       "      <td>3.300000</td>\n",
       "      <td>72.100000</td>\n",
       "    </tr>\n",
       "    <tr>\n",
       "      <th>75%</th>\n",
       "      <td>2202.750000</td>\n",
       "      <td>2012.00000</td>\n",
       "      <td>228.000000</td>\n",
       "      <td>22.000000</td>\n",
       "      <td>7.702500</td>\n",
       "      <td>441.534144</td>\n",
       "      <td>97.000000</td>\n",
       "      <td>358.750000</td>\n",
       "      <td>56.200000</td>\n",
       "      <td>97.000000</td>\n",
       "      <td>7.495000</td>\n",
       "      <td>97.000000</td>\n",
       "      <td>0.800000</td>\n",
       "      <td>5910.806335</td>\n",
       "      <td>7.420359e+06</td>\n",
       "      <td>7.200000</td>\n",
       "      <td>75.700000</td>\n",
       "    </tr>\n",
       "    <tr>\n",
       "      <th>max</th>\n",
       "      <td>2937.000000</td>\n",
       "      <td>2015.00000</td>\n",
       "      <td>723.000000</td>\n",
       "      <td>1800.000000</td>\n",
       "      <td>17.870000</td>\n",
       "      <td>19479.911610</td>\n",
       "      <td>99.000000</td>\n",
       "      <td>212183.000000</td>\n",
       "      <td>87.300000</td>\n",
       "      <td>99.000000</td>\n",
       "      <td>17.600000</td>\n",
       "      <td>99.000000</td>\n",
       "      <td>50.600000</td>\n",
       "      <td>119172.741800</td>\n",
       "      <td>1.293859e+09</td>\n",
       "      <td>27.700000</td>\n",
       "      <td>89.000000</td>\n",
       "    </tr>\n",
       "  </tbody>\n",
       "</table>\n",
       "</div>"
      ],
      "text/plain": [
       "        Unnamed: 0  Survey_Year  Mortality_Adults  Infant_Deaths_Count  \\\n",
       "count  2938.000000   2936.00000       2925.000000          2938.000000   \n",
       "mean   1468.500000   2007.52282        164.865299            30.303948   \n",
       "std     848.271871      4.61257        124.316868           117.926501   \n",
       "min       0.000000   2000.00000          1.000000             0.000000   \n",
       "25%     734.250000   2004.00000         74.000000             0.000000   \n",
       "50%    1468.500000   2008.00000        144.000000             3.000000   \n",
       "75%    2202.750000   2012.00000        228.000000            22.000000   \n",
       "max    2937.000000   2015.00000        723.000000          1800.000000   \n",
       "\n",
       "       Alcohol_Consumption_Rate  Expenditure_Percentage_GDP  \\\n",
       "count               2744.000000                 2938.000000   \n",
       "mean                   4.602861                  738.251295   \n",
       "std                    4.052413                 1987.914858   \n",
       "min                    0.010000                    0.000000   \n",
       "25%                    0.877500                    4.685343   \n",
       "50%                    3.755000                   64.912906   \n",
       "75%                    7.702500                  441.534144   \n",
       "max                   17.870000                19479.911610   \n",
       "\n",
       "       Hepatitis_B_Vaccination_Coverage  Measles_Infection_Count  \\\n",
       "count                       2385.000000              2936.000000   \n",
       "mean                          80.940461              2420.752384   \n",
       "std                           25.070016             11471.077443   \n",
       "min                            1.000000                 0.000000   \n",
       "25%                           77.000000                 0.000000   \n",
       "50%                           92.000000                17.000000   \n",
       "75%                           97.000000               358.750000   \n",
       "max                           99.000000            212183.000000   \n",
       "\n",
       "       Body_Mass_Index_Avg  Polio_Vaccination_Coverage  \\\n",
       "count          2904.000000                 2919.000000   \n",
       "mean             38.321247                   82.550188   \n",
       "std              20.044034                   23.428046   \n",
       "min               1.000000                    3.000000   \n",
       "25%              19.300000                   78.000000   \n",
       "50%              43.500000                   93.000000   \n",
       "75%              56.200000                   97.000000   \n",
       "max              87.300000                   99.000000   \n",
       "\n",
       "       Total_Health_Expenditure  Diphtheria_Vaccination_Coverage  \\\n",
       "count               2711.000000                      2919.000000   \n",
       "mean                   5.938359                        82.324084   \n",
       "std                    2.498765                        23.716912   \n",
       "min                    0.370000                         2.000000   \n",
       "25%                    4.260000                        78.000000   \n",
       "50%                    5.760000                        93.000000   \n",
       "75%                    7.495000                        97.000000   \n",
       "max                   17.600000                        99.000000   \n",
       "\n",
       "       HIV_AIDS_Prevalence_Rate  Gross_Domestic_Product  Total_Population  \\\n",
       "count               2938.000000             2490.000000      2.286000e+03   \n",
       "mean                   1.742103             7483.158469      1.275338e+07   \n",
       "std                    5.077785            14270.169342      6.101210e+07   \n",
       "min                    0.100000                1.681350      3.400000e+01   \n",
       "25%                    0.100000              463.935626      1.957932e+05   \n",
       "50%                    0.100000             1766.947595      1.386542e+06   \n",
       "75%                    0.800000             5910.806335      7.420359e+06   \n",
       "max                   50.600000           119172.741800      1.293859e+09   \n",
       "\n",
       "          Thinness  Life_Expectancy_Years  \n",
       "count  2904.000000            2928.000000  \n",
       "mean      4.839704              69.224932  \n",
       "std       4.420195               9.523867  \n",
       "min       0.100000              36.300000  \n",
       "25%       1.600000              63.100000  \n",
       "50%       3.300000              72.100000  \n",
       "75%       7.200000              75.700000  \n",
       "max      27.700000              89.000000  "
      ]
     },
     "execution_count": 6,
     "metadata": {},
     "output_type": "execute_result"
    }
   ],
   "source": [
    "df.describe()"
   ]
  },
  {
   "cell_type": "code",
   "execution_count": 7,
   "metadata": {},
   "outputs": [
    {
     "data": {
      "text/plain": [
       "Unnamed: 0                           0.000000\n",
       "Nation                               0.034037\n",
       "Survey_Year                          0.068074\n",
       "Country_Category                     0.102110\n",
       "Mortality_Adults                     0.442478\n",
       "Infant_Deaths_Count                  0.000000\n",
       "Alcohol_Consumption_Rate             6.603131\n",
       "Expenditure_Percentage_GDP           0.000000\n",
       "Hepatitis_B_Vaccination_Coverage    18.822328\n",
       "Measles_Infection_Count              0.068074\n",
       "Body_Mass_Index_Avg                  1.157250\n",
       "Polio_Vaccination_Coverage           0.646698\n",
       "Total_Health_Expenditure             7.726344\n",
       "Diphtheria_Vaccination_Coverage      0.646698\n",
       "HIV_AIDS_Prevalence_Rate             0.000000\n",
       "Gross_Domestic_Product              15.248468\n",
       "Total_Population                    22.191967\n",
       "Thinness                             1.157250\n",
       "Life_Expectancy_Years                0.340368\n",
       "dtype: float64"
      ]
     },
     "execution_count": 7,
     "metadata": {},
     "output_type": "execute_result"
    }
   ],
   "source": [
    "100 * df.isna().sum() / df.shape[0]"
   ]
  },
  {
   "cell_type": "code",
   "execution_count": 8,
   "metadata": {},
   "outputs": [
    {
     "data": {
      "text/plain": [
       "0"
      ]
     },
     "execution_count": 8,
     "metadata": {},
     "output_type": "execute_result"
    }
   ],
   "source": [
    "df.duplicated().sum()"
   ]
  },
  {
   "cell_type": "markdown",
   "metadata": {},
   "source": [
    "# Conclusion \n",
    "    . data has 2938 rows and 19 columns\n",
    "    . most attributes are numerical\n",
    "    . useless columns [Unnamed 0]"
   ]
  },
  {
   "cell_type": "markdown",
   "metadata": {},
   "source": [
    "# Cleaning\n"
   ]
  },
  {
   "cell_type": "code",
   "execution_count": 9,
   "metadata": {},
   "outputs": [
    {
     "data": {
      "text/plain": [
       "Unnamed: 0                            0\n",
       "Nation                                1\n",
       "Survey_Year                           2\n",
       "Country_Category                      3\n",
       "Mortality_Adults                     13\n",
       "Infant_Deaths_Count                   0\n",
       "Alcohol_Consumption_Rate            194\n",
       "Expenditure_Percentage_GDP            0\n",
       "Hepatitis_B_Vaccination_Coverage    553\n",
       "Measles_Infection_Count               2\n",
       "Body_Mass_Index_Avg                  34\n",
       "Polio_Vaccination_Coverage           19\n",
       "Total_Health_Expenditure            227\n",
       "Diphtheria_Vaccination_Coverage      19\n",
       "HIV_AIDS_Prevalence_Rate              0\n",
       "Gross_Domestic_Product              448\n",
       "Total_Population                    652\n",
       "Thinness                             34\n",
       "Life_Expectancy_Years                10\n",
       "dtype: int64"
      ]
     },
     "execution_count": 9,
     "metadata": {},
     "output_type": "execute_result"
    }
   ],
   "source": [
    "df.isna().sum()"
   ]
  },
  {
   "cell_type": "code",
   "execution_count": 10,
   "metadata": {},
   "outputs": [],
   "source": [
    "df.drop(columns=[\"Unnamed: 0\"], inplace=True)"
   ]
  },
  {
   "cell_type": "code",
   "execution_count": 11,
   "metadata": {},
   "outputs": [
    {
     "data": {
      "text/plain": [
       "<Axes: ylabel='Alcohol_Consumption_Rate'>"
      ]
     },
     "execution_count": 11,
     "metadata": {},
     "output_type": "execute_result"
    },
    {
     "data": {
      "image/png": "[encoded data removed]",
      "text/plain": [
       "<Figure size 640x480 with 1 Axes>"
      ]
     },
     "metadata": {},
     "output_type": "display_data"
    }
   ],
   "source": [
    "sns.boxplot(df[\"Alcohol_Consumption_Rate\"])"
   ]
  },
  {
   "cell_type": "code",
   "execution_count": 12,
   "metadata": {},
   "outputs": [],
   "source": [
    "filt = df[\"Alcohol_Consumption_Rate\"].isna()\n",
    "countirs = df.loc[filt, \"Nation\"].value_counts().index"
   ]
  },
  {
   "cell_type": "code",
   "execution_count": 13,
   "metadata": {},
   "outputs": [],
   "source": [
    "alco = df[\"Alcohol_Consumption_Rate\"].groupby(df[\"Nation\"]).median()\n",
    "for country in countirs:\n",
    "    df.loc[\n",
    "        (df[\"Nation\"] == country) & (df[\"Alcohol_Consumption_Rate\"].isna()),\n",
    "        \"Alcohol_Consumption_Rate\",\n",
    "    ] = alco[country]"
   ]
  },
  {
   "cell_type": "code",
   "execution_count": null,
   "metadata": {},
   "outputs": [],
   "source": []
  },
  {
   "cell_type": "code",
   "execution_count": 14,
   "metadata": {},
   "outputs": [
    {
     "data": {
      "text/plain": [
       "553"
      ]
     },
     "execution_count": 14,
     "metadata": {},
     "output_type": "execute_result"
    }
   ],
   "source": [
    "df[\"Hepatitis_B_Vaccination_Coverage\"].isna().sum()"
   ]
  },
  {
   "cell_type": "code",
   "execution_count": 15,
   "metadata": {},
   "outputs": [],
   "source": [
    "hepa = df[\"Hepatitis_B_Vaccination_Coverage\"].groupby(df[\"Nation\"]).median()\n",
    "for country in countirs:\n",
    "    df.loc[\n",
    "        (df[\"Nation\"] == country) & (df[\"Hepatitis_B_Vaccination_Coverage\"].isna()),\n",
    "        \"Hepatitis_B_Vaccination_Coverage\",\n",
    "    ] = hepa[country]"
   ]
  },
  {
   "cell_type": "code",
   "execution_count": 16,
   "metadata": {},
   "outputs": [
    {
     "data": {
      "text/plain": [
       "Hepatitis_B_Vaccination_Coverage\n",
       "99.0    251\n",
       "98.0    210\n",
       "96.0    175\n",
       "97.0    168\n",
       "95.0    163\n",
       "       ... \n",
       "15.0      1\n",
       "32.0      1\n",
       "1.0       1\n",
       "12.0      1\n",
       "19.0      1\n",
       "Name: count, Length: 96, dtype: int64"
      ]
     },
     "execution_count": 16,
     "metadata": {},
     "output_type": "execute_result"
    }
   ],
   "source": [
    "df[\"Hepatitis_B_Vaccination_Coverage\"].value_counts()"
   ]
  },
  {
   "cell_type": "code",
   "execution_count": 17,
   "metadata": {},
   "outputs": [
    {
     "data": {
      "text/plain": [
       "<Axes: xlabel='Hepatitis_B_Vaccination_Coverage', ylabel='Count'>"
      ]
     },
     "execution_count": 17,
     "metadata": {},
     "output_type": "execute_result"
    },
    {
     "data": {
      "image/png": "[encoded data removed]",
      "text/plain": [
       "<Figure size 2000x1000 with 1 Axes>"
      ]
     },
     "metadata": {},
     "output_type": "display_data"
    }
   ],
   "source": [
    "fig = plt.figure(figsize=(20, 10))\n",
    "sns.histplot(df[\"Hepatitis_B_Vaccination_Coverage\"], bins=20, binrange=(0, 100))"
   ]
  },
  {
   "cell_type": "markdown",
   "metadata": {},
   "source": [
    "- `most countries have more than 80% vaccinated`"
   ]
  },
  {
   "cell_type": "code",
   "execution_count": 18,
   "metadata": {},
   "outputs": [
    {
     "data": {
      "text/plain": [
       "Nation                                1\n",
       "Survey_Year                           2\n",
       "Country_Category                      3\n",
       "Mortality_Adults                     13\n",
       "Infant_Deaths_Count                   0\n",
       "Alcohol_Consumption_Rate             17\n",
       "Expenditure_Percentage_GDP            0\n",
       "Hepatitis_B_Vaccination_Coverage    144\n",
       "Measles_Infection_Count               2\n",
       "Body_Mass_Index_Avg                  34\n",
       "Polio_Vaccination_Coverage           19\n",
       "Total_Health_Expenditure            227\n",
       "Diphtheria_Vaccination_Coverage      19\n",
       "HIV_AIDS_Prevalence_Rate              0\n",
       "Gross_Domestic_Product              448\n",
       "Total_Population                    652\n",
       "Thinness                             34\n",
       "Life_Expectancy_Years                10\n",
       "dtype: int64"
      ]
     },
     "execution_count": 18,
     "metadata": {},
     "output_type": "execute_result"
    }
   ],
   "source": [
    "df.isna().sum()"
   ]
  },
  {
   "cell_type": "code",
   "execution_count": 19,
   "metadata": {},
   "outputs": [
    {
     "data": {
      "text/plain": [
       "<Axes: ylabel='Expenditure_Percentage_GDP'>"
      ]
     },
     "execution_count": 19,
     "metadata": {},
     "output_type": "execute_result"
    },
    {
     "data": {
      "image/png": "[encoded data removed]",
      "text/plain": [
       "<Figure size 640x480 with 1 Axes>"
      ]
     },
     "metadata": {},
     "output_type": "display_data"
    }
   ],
   "source": [
    "sns.boxplot(df[\"Expenditure_Percentage_GDP\"])"
   ]
  },
  {
   "cell_type": "code",
   "execution_count": 20,
   "metadata": {},
   "outputs": [],
   "source": [
    "df = df[df[\"Expenditure_Percentage_GDP\"] < 5000]"
   ]
  },
  {
   "cell_type": "code",
   "execution_count": 21,
   "metadata": {},
   "outputs": [],
   "source": [
    "expe = df[\"Expenditure_Percentage_GDP\"].groupby(df[\"Nation\"]).median()\n",
    "for country in countirs:\n",
    "    if expe[country] is np.nan:\n",
    "        df = df[df[\"Nation\"] != country]\n",
    "    else:\n",
    "        df.loc[\n",
    "            (df[\"Nation\"] == country) & (df[\"Expenditure_Percentage_GDP\"].isna()),\n",
    "            \"Expenditure_Percentage_GDP\",\n",
    "        ] = expe[country]"
   ]
  },
  {
   "cell_type": "code",
   "execution_count": 22,
   "metadata": {},
   "outputs": [
    {
     "data": {
      "text/plain": [
       "(2802, 18)"
      ]
     },
     "execution_count": 22,
     "metadata": {},
     "output_type": "execute_result"
    }
   ],
   "source": [
    "df.shape"
   ]
  },
  {
   "cell_type": "code",
   "execution_count": 23,
   "metadata": {},
   "outputs": [],
   "source": [
    "countirs = df[\"Nation\"].value_counts().index\n",
    "# fill with the nearest values\n",
    "for country in countirs:\n",
    "    df.loc[df[\"Nation\"] == country, \"Total_Health_Expenditure\"] = df[\n",
    "        \"Total_Health_Expenditure\"\n",
    "    ].fillna(df[df[\"Nation\"] == country][\"Total_Health_Expenditure\"].interpolate())"
   ]
  },
  {
   "cell_type": "code",
   "execution_count": 24,
   "metadata": {},
   "outputs": [
    {
     "data": {
      "text/plain": [
       "<Axes: xlabel='Total_Health_Expenditure', ylabel='Density'>"
      ]
     },
     "execution_count": 24,
     "metadata": {},
     "output_type": "execute_result"
    },
    {
     "data": {
      "image/png": "[encoded data removed]",
      "text/plain": [
       "<Figure size 640x480 with 1 Axes>"
      ]
     },
     "metadata": {},
     "output_type": "display_data"
    }
   ],
   "source": [
    "sns.kdeplot(df[\"Total_Health_Expenditure\"], fill=True)"
   ]
  },
  {
   "cell_type": "code",
   "execution_count": 25,
   "metadata": {},
   "outputs": [
    {
     "data": {
      "text/plain": [
       "<Axes: ylabel='Total_Health_Expenditure'>"
      ]
     },
     "execution_count": 25,
     "metadata": {},
     "output_type": "execute_result"
    },
    {
     "data": {
      "image/png": "[encoded data removed]",
      "text/plain": [
       "<Figure size 640x480 with 1 Axes>"
      ]
     },
     "metadata": {},
     "output_type": "display_data"
    }
   ],
   "source": [
    "sns.boxplot(df[\"Total_Health_Expenditure\"])"
   ]
  },
  {
   "cell_type": "markdown",
   "metadata": {},
   "source": [
    "- `Overall total health expenditure is almost gaussian distribution`"
   ]
  },
  {
   "cell_type": "code",
   "execution_count": 26,
   "metadata": {},
   "outputs": [],
   "source": [
    "gross = df[\"Gross_Domestic_Product\"].groupby(df[\"Nation\"]).median()\n",
    "for country in countirs:\n",
    "    if gross[country] is np.nan:\n",
    "        df = df[df[\"Nation\"] != country]\n",
    "    else:\n",
    "        df.loc[\n",
    "            (df[\"Nation\"] == country) & (df[\"Gross_Domestic_Product\"].isna()),\n",
    "            \"Gross_Domestic_Product\",\n",
    "        ] = gross[country]"
   ]
  },
  {
   "cell_type": "code",
   "execution_count": 27,
   "metadata": {},
   "outputs": [
    {
     "data": {
      "text/plain": [
       "<Axes: xlabel='Gross_Domestic_Product', ylabel='Density'>"
      ]
     },
     "execution_count": 27,
     "metadata": {},
     "output_type": "execute_result"
    },
    {
     "data": {
      "image/png": "[encoded data removed]",
      "text/plain": [
       "<Figure size 640x480 with 1 Axes>"
      ]
     },
     "metadata": {},
     "output_type": "display_data"
    }
   ],
   "source": [
    "sns.kdeplot(df[\"Gross_Domestic_Product\"])"
   ]
  },
  {
   "cell_type": "code",
   "execution_count": 28,
   "metadata": {},
   "outputs": [],
   "source": [
    "df = df.loc[df[\"Gross_Domestic_Product\"] <= 20000]"
   ]
  },
  {
   "cell_type": "code",
   "execution_count": null,
   "metadata": {},
   "outputs": [],
   "source": []
  },
  {
   "cell_type": "code",
   "execution_count": 29,
   "metadata": {},
   "outputs": [
    {
     "ename": "KeyError",
     "evalue": "\"Democratic People's Republic of Korea\"",
     "output_type": "error",
     "traceback": [
      "\u001b[1;31m---------------------------------------------------------------------------\u001b[0m",
      "\u001b[1;31mKeyError\u001b[0m                                  Traceback (most recent call last)",
      "File \u001b[1;32mc:\\Users\\dell\\AppData\\Local\\Programs\\Python\\Python312\\Lib\\site-packages\\pandas\\core\\indexes\\base.py:3805\u001b[0m, in \u001b[0;36mIndex.get_loc\u001b[1;34m(self, key)\u001b[0m\n\u001b[0;32m   3804\u001b[0m \u001b[38;5;28;01mtry\u001b[39;00m:\n\u001b[1;32m-> 3805\u001b[0m     \u001b[38;5;28;01mreturn\u001b[39;00m \u001b[38;5;28;43mself\u001b[39;49m\u001b[38;5;241;43m.\u001b[39;49m\u001b[43m_engine\u001b[49m\u001b[38;5;241;43m.\u001b[39;49m\u001b[43mget_loc\u001b[49m\u001b[43m(\u001b[49m\u001b[43mcasted_key\u001b[49m\u001b[43m)\u001b[49m\n\u001b[0;32m   3806\u001b[0m \u001b[38;5;28;01mexcept\u001b[39;00m \u001b[38;5;167;01mKeyError\u001b[39;00m \u001b[38;5;28;01mas\u001b[39;00m err:\n",
      "File \u001b[1;32mindex.pyx:167\u001b[0m, in \u001b[0;36mpandas._libs.index.IndexEngine.get_loc\u001b[1;34m()\u001b[0m\n",
      "File \u001b[1;32mindex.pyx:196\u001b[0m, in \u001b[0;36mpandas._libs.index.IndexEngine.get_loc\u001b[1;34m()\u001b[0m\n",
      "File \u001b[1;32mpandas\\\\_libs\\\\hashtable_class_helper.pxi:7081\u001b[0m, in \u001b[0;36mpandas._libs.hashtable.PyObjectHashTable.get_item\u001b[1;34m()\u001b[0m\n",
      "File \u001b[1;32mpandas\\\\_libs\\\\hashtable_class_helper.pxi:7089\u001b[0m, in \u001b[0;36mpandas._libs.hashtable.PyObjectHashTable.get_item\u001b[1;34m()\u001b[0m\n",
      "\u001b[1;31mKeyError\u001b[0m: \"Democratic People's Republic of Korea\"",
      "\nThe above exception was the direct cause of the following exception:\n",
      "\u001b[1;31mKeyError\u001b[0m                                  Traceback (most recent call last)",
      "Cell \u001b[1;32mIn[29], line 3\u001b[0m\n\u001b[0;32m      1\u001b[0m popul \u001b[38;5;241m=\u001b[39m df[\u001b[38;5;124m\"\u001b[39m\u001b[38;5;124mTotal_Population\u001b[39m\u001b[38;5;124m\"\u001b[39m]\u001b[38;5;241m.\u001b[39mgroupby(df[\u001b[38;5;124m\"\u001b[39m\u001b[38;5;124mNation\u001b[39m\u001b[38;5;124m\"\u001b[39m])\u001b[38;5;241m.\u001b[39mmedian()\n\u001b[0;32m      2\u001b[0m \u001b[38;5;28;01mfor\u001b[39;00m country \u001b[38;5;129;01min\u001b[39;00m countirs:\n\u001b[1;32m----> 3\u001b[0m     \u001b[38;5;28;01mif\u001b[39;00m \u001b[43mpopul\u001b[49m\u001b[43m[\u001b[49m\u001b[43mcountry\u001b[49m\u001b[43m]\u001b[49m \u001b[38;5;129;01mis\u001b[39;00m np\u001b[38;5;241m.\u001b[39mnan:\n\u001b[0;32m      4\u001b[0m         df \u001b[38;5;241m=\u001b[39m df[df[\u001b[38;5;124m\"\u001b[39m\u001b[38;5;124mNation\u001b[39m\u001b[38;5;124m\"\u001b[39m] \u001b[38;5;241m!=\u001b[39m country]\n\u001b[0;32m      5\u001b[0m     \u001b[38;5;28;01melse\u001b[39;00m:\n",
      "File \u001b[1;32mc:\\Users\\dell\\AppData\\Local\\Programs\\Python\\Python312\\Lib\\site-packages\\pandas\\core\\series.py:1121\u001b[0m, in \u001b[0;36mSeries.__getitem__\u001b[1;34m(self, key)\u001b[0m\n\u001b[0;32m   1118\u001b[0m     \u001b[38;5;28;01mreturn\u001b[39;00m \u001b[38;5;28mself\u001b[39m\u001b[38;5;241m.\u001b[39m_values[key]\n\u001b[0;32m   1120\u001b[0m \u001b[38;5;28;01melif\u001b[39;00m key_is_scalar:\n\u001b[1;32m-> 1121\u001b[0m     \u001b[38;5;28;01mreturn\u001b[39;00m \u001b[38;5;28;43mself\u001b[39;49m\u001b[38;5;241;43m.\u001b[39;49m\u001b[43m_get_value\u001b[49m\u001b[43m(\u001b[49m\u001b[43mkey\u001b[49m\u001b[43m)\u001b[49m\n\u001b[0;32m   1123\u001b[0m \u001b[38;5;66;03m# Convert generator to list before going through hashable part\u001b[39;00m\n\u001b[0;32m   1124\u001b[0m \u001b[38;5;66;03m# (We will iterate through the generator there to check for slices)\u001b[39;00m\n\u001b[0;32m   1125\u001b[0m \u001b[38;5;28;01mif\u001b[39;00m is_iterator(key):\n",
      "File \u001b[1;32mc:\\Users\\dell\\AppData\\Local\\Programs\\Python\\Python312\\Lib\\site-packages\\pandas\\core\\series.py:1237\u001b[0m, in \u001b[0;36mSeries._get_value\u001b[1;34m(self, label, takeable)\u001b[0m\n\u001b[0;32m   1234\u001b[0m     \u001b[38;5;28;01mreturn\u001b[39;00m \u001b[38;5;28mself\u001b[39m\u001b[38;5;241m.\u001b[39m_values[label]\n\u001b[0;32m   1236\u001b[0m \u001b[38;5;66;03m# Similar to Index.get_value, but we do not fall back to positional\u001b[39;00m\n\u001b[1;32m-> 1237\u001b[0m loc \u001b[38;5;241m=\u001b[39m \u001b[38;5;28;43mself\u001b[39;49m\u001b[38;5;241;43m.\u001b[39;49m\u001b[43mindex\u001b[49m\u001b[38;5;241;43m.\u001b[39;49m\u001b[43mget_loc\u001b[49m\u001b[43m(\u001b[49m\u001b[43mlabel\u001b[49m\u001b[43m)\u001b[49m\n\u001b[0;32m   1239\u001b[0m \u001b[38;5;28;01mif\u001b[39;00m is_integer(loc):\n\u001b[0;32m   1240\u001b[0m     \u001b[38;5;28;01mreturn\u001b[39;00m \u001b[38;5;28mself\u001b[39m\u001b[38;5;241m.\u001b[39m_values[loc]\n",
      "File \u001b[1;32mc:\\Users\\dell\\AppData\\Local\\Programs\\Python\\Python312\\Lib\\site-packages\\pandas\\core\\indexes\\base.py:3812\u001b[0m, in \u001b[0;36mIndex.get_loc\u001b[1;34m(self, key)\u001b[0m\n\u001b[0;32m   3807\u001b[0m     \u001b[38;5;28;01mif\u001b[39;00m \u001b[38;5;28misinstance\u001b[39m(casted_key, \u001b[38;5;28mslice\u001b[39m) \u001b[38;5;129;01mor\u001b[39;00m (\n\u001b[0;32m   3808\u001b[0m         \u001b[38;5;28misinstance\u001b[39m(casted_key, abc\u001b[38;5;241m.\u001b[39mIterable)\n\u001b[0;32m   3809\u001b[0m         \u001b[38;5;129;01mand\u001b[39;00m \u001b[38;5;28many\u001b[39m(\u001b[38;5;28misinstance\u001b[39m(x, \u001b[38;5;28mslice\u001b[39m) \u001b[38;5;28;01mfor\u001b[39;00m x \u001b[38;5;129;01min\u001b[39;00m casted_key)\n\u001b[0;32m   3810\u001b[0m     ):\n\u001b[0;32m   3811\u001b[0m         \u001b[38;5;28;01mraise\u001b[39;00m InvalidIndexError(key)\n\u001b[1;32m-> 3812\u001b[0m     \u001b[38;5;28;01mraise\u001b[39;00m \u001b[38;5;167;01mKeyError\u001b[39;00m(key) \u001b[38;5;28;01mfrom\u001b[39;00m \u001b[38;5;21;01merr\u001b[39;00m\n\u001b[0;32m   3813\u001b[0m \u001b[38;5;28;01mexcept\u001b[39;00m \u001b[38;5;167;01mTypeError\u001b[39;00m:\n\u001b[0;32m   3814\u001b[0m     \u001b[38;5;66;03m# If we have a listlike key, _check_indexing_error will raise\u001b[39;00m\n\u001b[0;32m   3815\u001b[0m     \u001b[38;5;66;03m#  InvalidIndexError. Otherwise we fall through and re-raise\u001b[39;00m\n\u001b[0;32m   3816\u001b[0m     \u001b[38;5;66;03m#  the TypeError.\u001b[39;00m\n\u001b[0;32m   3817\u001b[0m     \u001b[38;5;28mself\u001b[39m\u001b[38;5;241m.\u001b[39m_check_indexing_error(key)\n",
      "\u001b[1;31mKeyError\u001b[0m: \"Democratic People's Republic of Korea\""
     ]
    }
   ],
   "source": [
    "popul = df[\"Total_Population\"].groupby(df[\"Nation\"]).median()\n",
    "for country in countirs:\n",
    "    if popul[country] is np.nan:\n",
    "        df = df[df[\"Nation\"] != country]\n",
    "    else:\n",
    "        df.loc[\n",
    "            (df[\"Nation\"] == country) & (df[\"Total_Population\"].isna()),\n",
    "            \"Total_Population\",\n",
    "        ] = popul[country]"
   ]
  },
  {
   "cell_type": "code",
   "execution_count": null,
   "metadata": {},
   "outputs": [],
   "source": []
  },
  {
   "cell_type": "code",
   "execution_count": null,
   "metadata": {},
   "outputs": [],
   "source": []
  },
  {
   "cell_type": "code",
   "execution_count": null,
   "metadata": {},
   "outputs": [],
   "source": []
  },
  {
   "cell_type": "code",
   "execution_count": null,
   "metadata": {},
   "outputs": [],
   "source": []
  },
  {
   "cell_type": "code",
   "execution_count": null,
   "metadata": {},
   "outputs": [],
   "source": []
  },
  {
   "cell_type": "code",
   "execution_count": null,
   "metadata": {},
   "outputs": [],
   "source": []
  },
  {
   "cell_type": "code",
   "execution_count": null,
   "metadata": {},
   "outputs": [],
   "source": []
  },
  {
   "cell_type": "code",
   "execution_count": null,
   "metadata": {},
   "outputs": [],
   "source": []
  },
  {
   "cell_type": "code",
   "execution_count": null,
   "metadata": {},
   "outputs": [],
   "source": []
  }
 ],
 "metadata": {
  "kernelspec": {
   "display_name": "Python 3",
   "language": "python",
   "name": "python3"
  },
  "language_info": {
   "codemirror_mode": {
    "name": "ipython",
    "version": 3
   },
   "file_extension": ".py",
   "mimetype": "text/x-python",
   "name": "python",
   "nbconvert_exporter": "python",
   "pygments_lexer": "ipython3",
   "version": "3.12.0"
  }
 },
 "nbformat": 4,
 "nbformat_minor": 2
}
